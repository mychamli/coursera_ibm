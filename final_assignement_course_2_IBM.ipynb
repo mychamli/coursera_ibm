{
 "cells": [
  {
   "cell_type": "markdown",
   "metadata": {},
   "source": [
    "# Exercice 2 : Final Submission ! "
   ]
  },
  {
   "cell_type": "markdown",
   "metadata": {},
   "source": [
    "# Exercice 3 : Introduction"
   ]
  },
  {
   "cell_type": "markdown",
   "metadata": {},
   "source": [
    "This notebook is the final submisssion of IBM DATA SCIENCE SPECIALIZATION course 2: Data science tools on coursera. The following is each exercise"
   ]
  },
  {
   "cell_type": "markdown",
   "metadata": {},
   "source": [
    "# EX4 :  Data science languages\n",
    "There are numerous data science languages , here are some:\n",
    "- Python\n",
    "- R\n",
    "- Java\n",
    "- Javascript\n",
    "- Julia\n",
    "- Scala\n",
    "- visual basic\n",
    "- SQL\n"
   ]
  },
  {
   "cell_type": "markdown",
   "metadata": {},
   "source": [
    "# EX5 : Data science libraries.\n",
    "There are numerous data science libraries:\n",
    "- pandas\n",
    "- matplotlib\n",
    "- scikit-learn\n",
    "- tensorflow\n",
    "- pytorch\n",
    "- CAFFE\n",
    "- ggplot\n",
    "- plotly\n",
    "- caret\n",
    "- dplyr\n",
    "- ggplot2"
   ]
  },
  {
   "cell_type": "markdown",
   "metadata": {},
   "source": [
    "# Exercise 6 -  Data Science tools In a Table.\n",
    "\n",
    "| opensource tools | Commercial tools                       |\n",
    "|------------------|----------------------------------------|\n",
    "| MYSQL            | IBM InfoSphere DataStage               |\n",
    "| mongoDB          | Oracle                                 |\n",
    "| hadoop           | Talend                                 |\n",
    "| jupyterlab       | Tableau                                |\n",
    "| kubeflow         | Microsoft Power BI                     |\n",
    "| airflow          | Watson Studio Desktop                  |\n",
    "| RSTUDIO          | Informatica Enterprise Data Governance |\n",
    "\n"
   ]
  },
  {
   "cell_type": "markdown",
   "metadata": {},
   "source": [
    "# EX7 : Artithmetic operations examples"
   ]
  },
  {
   "cell_type": "code",
   "execution_count": 2,
   "metadata": {},
   "outputs": [
    {
     "name": "stdout",
     "output_type": "stream",
     "text": [
      "7\n",
      "49\n"
     ]
    }
   ],
   "source": [
    "x = 2+5 \n",
    "print(x)\n",
    "\n",
    "x= x**2\n",
    "print(x)"
   ]
  },
  {
   "cell_type": "markdown",
   "metadata": {},
   "source": [
    "# EX8 : Multiply and add numbers"
   ]
  },
  {
   "cell_type": "code",
   "execution_count": 3,
   "metadata": {},
   "outputs": [
    {
     "name": "stdout",
     "output_type": "stream",
     "text": [
      "7\n",
      "10\n"
     ]
    }
   ],
   "source": [
    "x = 2+5\n",
    "print(x)\n",
    "x = 2*5\n",
    "print(x)"
   ]
  },
  {
   "cell_type": "markdown",
   "metadata": {},
   "source": [
    "# Exercise 9 - Create a code cell to convert minutes to hours. (2 pts)\n",
    "\n"
   ]
  },
  {
   "cell_type": "code",
   "execution_count": 5,
   "metadata": {},
   "outputs": [
    {
     "name": "stdout",
     "output_type": "stream",
     "text": [
      "2.0\n"
     ]
    }
   ],
   "source": [
    "def convert(x):\n",
    "    return x/60\n",
    "\n",
    "print(convert(120))\n"
   ]
  },
  {
   "cell_type": "markdown",
   "metadata": {},
   "source": [
    "# Exercise 10 -Insert a markdown cell to list Objectives. (3 pts)\n",
    "\n"
   ]
  },
  {
   "cell_type": "markdown",
   "metadata": {},
   "source": []
  },
  {
   "cell_type": "markdown",
   "metadata": {},
   "source": [
    "# Exercise 11 - Create a markdown cell to indicate the Author’s name. (2 pts)\n",
    "\n",
    "This notebook was authored by Amine.\n"
   ]
  },
  {
   "cell_type": "markdown",
   "metadata": {},
   "source": []
  }
 ],
 "metadata": {
  "kernelspec": {
   "display_name": "Python 3",
   "language": "python",
   "name": "python3"
  },
  "language_info": {
   "codemirror_mode": {
    "name": "ipython",
    "version": 3
   },
   "file_extension": ".py",
   "mimetype": "text/x-python",
   "name": "python",
   "nbconvert_exporter": "python",
   "pygments_lexer": "ipython3",
   "version": "3.9.13"
  },
  "orig_nbformat": 4
 },
 "nbformat": 4,
 "nbformat_minor": 2
}
